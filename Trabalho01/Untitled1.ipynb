{
 "cells": [
  {
   "cell_type": "code",
   "execution_count": 3,
   "id": "beda762b-8022-4ae3-ab91-81a8430b7e31",
   "metadata": {},
   "outputs": [
    {
     "data": {
      "image/png": "[encoded data removed]",
      "text/plain": [
       "<Figure size 800x400 with 2 Axes>"
      ]
     },
     "metadata": {},
     "output_type": "display_data"
    }
   ],
   "source": [
    "import numpy as np\n",
    "import matplotlib.pyplot as plt\n",
    "\n",
    "# Função para criar o grafo a partir da imagem\n",
    "def create_graph(image, threshold):\n",
    "    rows, cols = image.shape\n",
    "    graph = {}\n",
    "    \n",
    "    for r in range(rows):\n",
    "        for c in range(cols):\n",
    "            if (r, c) not in graph:\n",
    "                graph[(r, c)] = []\n",
    "            # Adjacência 4: cima, baixo, esquerda, direita\n",
    "            for dr, dc in [(-1, 0), (1, 0), (0, -1), (0, 1)]:\n",
    "                nr, nc = r + dr, c + dc\n",
    "                if 0 <= nr < rows and 0 <= nc < cols:\n",
    "                    if abs(int(image[r, c]) - int(image[nr, nc])) < threshold:\n",
    "                        graph[(r, c)].append((nr, nc))\n",
    "    \n",
    "    return graph\n",
    "\n",
    "# Algoritmo guloso para a Cobertura Mínima de Vértices\n",
    "def greedy_vertex_cover(graph):\n",
    "    vertex_cover = set()\n",
    "    uncovered_vertices = set(graph.keys())\n",
    "    \n",
    "    while uncovered_vertices:\n",
    "        # Encontre o vértice com o maior grau\n",
    "        max_vertex = max(uncovered_vertices, key=lambda v: len(graph[v]))\n",
    "        \n",
    "        # Adicione à cobertura\n",
    "        vertex_cover.add(max_vertex)\n",
    "        \n",
    "        # Remova o vértice e seus vizinhos da lista de não cobertos\n",
    "        uncovered_vertices.remove(max_vertex)\n",
    "        uncovered_vertices -= set(graph[max_vertex])\n",
    "\n",
    "    return vertex_cover\n",
    "\n",
    "# Função para segmentar a imagem\n",
    "def segment_image(image, threshold):\n",
    "    graph = create_graph(image, threshold)\n",
    "    cover = greedy_vertex_cover(graph)\n",
    "    \n",
    "    segmented_image = np.zeros_like(image)\n",
    "    for vertex in cover:\n",
    "        segmented_image[vertex] = image[vertex]\n",
    "    \n",
    "    return segmented_image\n",
    "\n",
    "# Exemplo de uso\n",
    "if __name__ == \"__main__\":\n",
    "    mario_matriz = np.zeros((100, 100), dtype=np.uint8)  # Matriz 100x100 com valores iniciais 0 (preto)\n",
    "\n",
    "# Desenhando a cabeça\n",
    "    mario_matriz[20:80, 30:70] = 255  # Círculo branco para a cabeça\n",
    "\n",
    "# Desenhando o corpo\n",
    "    mario_matriz[40:80, 40:60] = 0  # Retângulo preto para o corpo\n",
    "    # Criar uma imagem de exemplo (grayscale)\n",
    "    image = np.array([[100, 100, 200, 200],\n",
    "                      [100, 100, 200, 200],\n",
    "                      [50, 50, 150, 150],\n",
    "                      [50, 50, 150, 150]], dtype=np.uint8)\n",
    "\n",
    "    threshold = 50  # Limite de intensidade\n",
    "    segmented = segment_image( mario_matriz, threshold)\n",
    "\n",
    "    # Exibir a imagem original e a segmentada\n",
    "    plt.figure(figsize=(8, 4))\n",
    "    plt.subplot(1, 2, 1)\n",
    "    plt.title('Imagem Original')\n",
    "    plt.imshow( mario_matriz, cmap='gray')\n",
    "    plt.axis('off')\n",
    "\n",
    "    plt.subplot(1, 2, 2)\n",
    "    plt.title('Imagem Segmentada')\n",
    "    plt.imshow(segmented, cmap='gray')\n",
    "    plt.axis('off')\n",
    "\n",
    "    plt.tight_layout()\n",
    "    plt.show()\n"
   ]
  },
  {
   "cell_type": "code",
   "execution_count": null,
   "id": "3bf5912d-c2a6-43c5-a870-ea55d0059bac",
   "metadata": {},
   "outputs": [],
   "source": []
  },
  {
   "cell_type": "code",
   "execution_count": null,
   "id": "2473dd97-957c-4dfe-85c9-1783a01ac39f",
   "metadata": {},
   "outputs": [],
   "source": []
  }
 ],
 "metadata": {
  "kernelspec": {
   "display_name": "Python 3 (ipykernel)",
   "language": "python",
   "name": "python3"
  },
  "language_info": {
   "codemirror_mode": {
    "name": "ipython",
    "version": 3
   },
   "file_extension": ".py",
   "mimetype": "text/x-python",
   "name": "python",
   "nbconvert_exporter": "python",
   "pygments_lexer": "ipython3",
   "version": "3.10.12"
  }
 },
 "nbformat": 4,
 "nbformat_minor": 5
}
